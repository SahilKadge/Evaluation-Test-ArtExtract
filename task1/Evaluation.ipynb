{
  "nbformat": 4,
  "nbformat_minor": 0,
  "metadata": {
    "colab": {
      "provenance": []
    },
    "kernelspec": {
      "name": "python3",
      "display_name": "Python 3"
    },
    "language_info": {
      "name": "python"
    }
  },
  "cells": [
    {
      "cell_type": "code",
      "source": [
        "from google.colab import drive\n",
        "drive.mount('/content/drive')"
      ],
      "metadata": {
        "id": "eanOb0NOYU20",
        "colab": {
          "base_uri": "https://localhost:8080/"
        },
        "outputId": "44cbf2b3-9ef6-45bb-adce-ec8ec58a45e0"
      },
      "execution_count": null,
      "outputs": [
        {
          "output_type": "stream",
          "name": "stdout",
          "text": [
            "Mounted at /content/drive\n"
          ]
        }
      ]
    },
    {
      "cell_type": "code",
      "source": [
        "\n",
        "import pandas as pd\n",
        "csv_path = './content/MyDrive/drive/data/csv'\n",
        "artist_train = pd.read_csv('/content/drive/MyDrive/data/csv/Artist/artist_train')\n",
        "# lets visualize one imag\n",
        "base_url = '/content/drive/MyDrive/data/images'\n",
        "# lets start creating data\n",
        "artist = '/content/drive/MyDrive/data/csv/Artist'\n",
        "genre = '/content/drive/MyDrive/data/csv/Genre'\n",
        "style = '/content/drive/MyDrive/data/csv/Style'\n",
        "data_dir = '/content/drive/MyDrive/data/csv'\n",
        "\n",
        "artist_train_path = data_dir + '/artist_train.csv'\n",
        "artist_val_path = data_dir + '/artist_val.csv'\n",
        "artist_class_path = data_dir + '/artist_class.txt'\n",
        "\n",
        "genre_train_path = data_dir + '/genre_train.csv'\n",
        "genre_val_path = data_dir + '/genre_val.csv'\n",
        "genre_class_path = data_dir + '/genre_class.txt'\n",
        "\n",
        "style_train_path = data_dir + '/style_train.csv'\n",
        "style_val_path = data_dir + '/style_val.csv'\n",
        "style_class_path = data_dir + '/style_class.txt'\n",
        "\n",
        "artist_train = pd.read_csv(data_dir + '/artist_train.csv')\n",
        "artist_val = pd.read_csv(data_dir + '/artist_val.csv')\n",
        "artist_class = pd.read_csv(artist_class_path, header=None, names=[\"artist_name\"])\n",
        "\n",
        "genre_train = pd.read_csv(data_dir + '/genre_train.csv')\n",
        "genre_val = pd.read_csv(data_dir + '/genre_val.csv')\n",
        "genre_class = pd.read_csv(genre_class_path, header=None, names=[\"genre_name\"])\n",
        "\n",
        "\n",
        "style_train = pd.read_csv(data_dir + '/style_train.csv')\n",
        "style_val = pd.read_csv(data_dir + '/style_val.csv')\n",
        "style_class = pd.read_csv(style_class_path, header=None, names=[\"style_name\"])\n",
        "\n",
        "# genre_class['genre_name'][1]\n",
        "len(style_class)"
      ],
      "metadata": {
        "id": "M60TPNmbYeMq",
        "colab": {
          "base_uri": "https://localhost:8080/"
        },
        "outputId": "d0921250-fa4c-478f-b722-55a288cfea75"
      },
      "execution_count": null,
      "outputs": [
        {
          "output_type": "execute_result",
          "data": {
            "text/plain": [
              "27"
            ]
          },
          "metadata": {},
          "execution_count": 2
        }
      ]
    },
    {
      "cell_type": "code",
      "source": [
        "import os\n",
        "import pandas as pd\n",
        "import torch\n",
        "from torch.utils.data import Dataset\n",
        "from torchvision import transforms\n",
        "from PIL import Image\n",
        "from collections import defaultdict\n",
        "import random\n",
        "from tqdm import tqdm\n",
        "import matplotlib.pyplot as plt\n",
        "\n",
        "# Define dataset class\n",
        "class BalancedArtDataset(Dataset):\n",
        "    def __init__(self, csv_file, img_dir, class_mapping, transform=None, images_per_class=32):\n",
        "        self.data = pd.read_csv(csv_file)\n",
        "        self.img_dir = img_dir\n",
        "        self.class_mapping = class_mapping\n",
        "        self.transform = transform\n",
        "        self.images_per_class = images_per_class\n",
        "\n",
        "        # Filter out missing images\n",
        "        print(\"Filtering missing images...\")\n",
        "        self.data = self.data[self.data.iloc[:, 0].apply(lambda x: os.path.exists(os.path.join(img_dir, str(x))))]\n",
        "\n",
        "        # Group images by class\n",
        "        print(\"Grouping images by class...\")\n",
        "        self.class_images = defaultdict(list)\n",
        "        for _, row in tqdm(self.data.iterrows(), total=len(self.data), desc=\"Processing rows\"):\n",
        "            self.class_images[row.iloc[1]].append(row)\n",
        "\n",
        "        # Balance dataset with 32 images per class\n",
        "        print(\"Balancing dataset...\")\n",
        "        self.final_data = []\n",
        "        all_images = []\n",
        "        for cls, images in tqdm(self.class_images.items(), total=len(self.class_images), desc=\"Processing classes\"):\n",
        "            if len(images) >= images_per_class:\n",
        "                selected_images = random.sample(images, images_per_class)\n",
        "            else:\n",
        "                selected_images = images[:]\n",
        "                all_images.extend(images)  # Store extra images for filling\n",
        "            self.final_data.extend(selected_images)\n",
        "\n",
        "        # Fill missing slots with extra images\n",
        "        print(\"Filling missing slots...\")\n",
        "        needed_images = images_per_class * len(self.class_images) - len(self.final_data)\n",
        "        if needed_images > 0:\n",
        "            self.final_data.extend(random.sample(all_images, min(needed_images, len(all_images))))\n",
        "\n",
        "        # Shuffle dataset\n",
        "        print(\"Shuffling dataset...\")\n",
        "        random.shuffle(self.final_data)\n",
        "\n",
        "        # Count images per class\n",
        "        self.class_counts = defaultdict(int)\n",
        "        for row in self.final_data:\n",
        "            self.class_counts[row.iloc[1]] += 1\n",
        "\n",
        "    def __len__(self):\n",
        "        return len(self.final_data)\n",
        "\n",
        "    def __getitem__(self, idx):\n",
        "        row = self.final_data[idx]\n",
        "        img_path = os.path.join(self.img_dir, str(row.iloc[0]))\n",
        "        label = row.iloc[1]\n",
        "        image = Image.open(img_path).convert(\"RGB\")\n",
        "\n",
        "        if self.transform:\n",
        "            image = self.transform(image)\n",
        "\n",
        "        return image, label\n",
        "\n",
        "\n",
        "    def visualize_class_distribution(self):\n",
        "        plt.figure(figsize=(12, 6))\n",
        "        plt.bar(self.class_counts.keys(), self.class_counts.values(), color='skyblue')\n",
        "        plt.xlabel(\"Class\")\n",
        "        plt.ylabel(\"Number of Images\")\n",
        "        plt.title(\"Class Distribution in Balanced Dataset\")\n",
        "        plt.xticks(rotation=45)\n",
        "        plt.show()\n",
        "\n",
        "    def visualize_samples(self, num_samples=10):\n",
        "        fig, axes = plt.subplots(1, num_samples, figsize=(40, 20))\n",
        "        for i in range(num_samples):\n",
        "            image, label = self.__getitem__(random.randint(0, len(self) - 1))\n",
        "            image = image.permute(1, 2, 0).numpy()  # Convert to (H, W, C)\n",
        "            image = (image * 0.5) + 0.5  # Unnormalize\n",
        "            axes[i].imshow(image)\n",
        "            axes[i].set_title(f\"Class: {label} {genre_class['genre_name'][label]}\")\n",
        "            axes[i].axis(\"off\")\n",
        "        plt.show()\n",
        "\n",
        "    # Function to compare artist and genre relationships\n",
        "\n",
        "\n",
        "\n",
        "# Define transformations\n",
        "transform = transforms.Compose([\n",
        "    transforms.Resize((224, 224)),\n",
        "    transforms.ToTensor(),\n",
        "    transforms.Normalize(mean=[0.5, 0.5, 0.5], std=[0.5, 0.5, 0.5])\n",
        "])\n",
        "\n",
        "# Create balanced artist dataset\n"
      ],
      "metadata": {
        "id": "2tgiSaSRYgW2"
      },
      "execution_count": null,
      "outputs": []
    },
    {
      "cell_type": "code",
      "source": [
        "import torch\n",
        "import torch.nn.functional as F\n",
        "from torch.utils.data import DataLoader\n",
        "from tqdm import tqdm  # Import tqdm for progress bar\n",
        "\n",
        "def test_model(model, dataset, device):\n",
        "    model.eval()  # Set model to evaluation mode\n",
        "    dataloader = DataLoader(dataset, batch_size=32, shuffle=False)  # Adjust batch size as needed\n",
        "    criterion = torch.nn.CrossEntropyLoss()  # Loss function\n",
        "\n",
        "    total_loss = 0.0\n",
        "    correct = 0\n",
        "    total = 0\n",
        "\n",
        "    with torch.no_grad():  # No gradients needed during evaluation\n",
        "        progress_bar = tqdm(dataloader, desc=\"Testing\", leave=True)  # tqdm progress bar\n",
        "        for images, labels in progress_bar:\n",
        "            images, labels = images.to(device), labels.to(device)\n",
        "\n",
        "            outputs = model(images)\n",
        "            loss = criterion(outputs, labels)\n",
        "            total_loss += loss.item()\n",
        "\n",
        "            _, predicted = torch.max(outputs, 1)  # Get predicted class\n",
        "            correct += (predicted == labels).sum().item()\n",
        "            total += labels.size(0)\n",
        "\n",
        "            # Update tqdm bar with current loss\n",
        "            progress_bar.set_postfix(loss=loss.item())\n",
        "\n",
        "    avg_loss = total_loss / len(dataloader)\n",
        "    accuracy = 100 * correct / total\n",
        "\n",
        "    print(f\"\\nTest Loss: {avg_loss:.4f}, Accuracy: {accuracy:.2f}%\")\n",
        "    return avg_loss, accuracy\n",
        "\n",
        "# Example usage:\n",
        "# test_model(model, artist_test_balanced_dataset, device)\n"
      ],
      "metadata": {
        "id": "tjOeKlQDlv_1"
      },
      "execution_count": null,
      "outputs": []
    },
    {
      "cell_type": "markdown",
      "source": [
        "## Artist Models"
      ],
      "metadata": {
        "id": "H7hCNeCGYMWy"
      }
    },
    {
      "cell_type": "code",
      "source": [
        "print(\"Creating balanced artist dataset...\")\n",
        "\n",
        "artist_test_balanced_dataset = BalancedArtDataset(artist_val_path, \"/content/drive/MyDrive/data/images\", artist_class_path, transform=transform, images_per_class=50)\n",
        "\n"
      ],
      "metadata": {
        "id": "KHz1NOKhYsoY",
        "colab": {
          "base_uri": "https://localhost:8080/"
        },
        "outputId": "4b9833b7-91b3-4fef-e24e-4de9ed899586"
      },
      "execution_count": null,
      "outputs": [
        {
          "output_type": "stream",
          "name": "stdout",
          "text": [
            "Creating balanced artist dataset...\n",
            "Filtering missing images...\n",
            "Grouping images by class...\n"
          ]
        },
        {
          "output_type": "stream",
          "name": "stderr",
          "text": [
            "Processing rows: 100%|██████████| 5706/5706 [00:00<00:00, 12961.68it/s]\n"
          ]
        },
        {
          "output_type": "stream",
          "name": "stdout",
          "text": [
            "Balancing dataset...\n"
          ]
        },
        {
          "output_type": "stream",
          "name": "stderr",
          "text": [
            "Processing classes: 100%|██████████| 23/23 [00:00<00:00, 14224.27it/s]"
          ]
        },
        {
          "output_type": "stream",
          "name": "stdout",
          "text": [
            "Filling missing slots...\n",
            "Shuffling dataset...\n"
          ]
        },
        {
          "output_type": "stream",
          "name": "stderr",
          "text": [
            "\n"
          ]
        }
      ]
    },
    {
      "cell_type": "code",
      "source": [
        "num_classes = len(artist_class)\n"
      ],
      "metadata": {
        "id": "QhuMaXaTlCZV"
      },
      "execution_count": null,
      "outputs": []
    },
    {
      "cell_type": "code",
      "source": [
        "import torch\n",
        "import torch.nn as nn\n",
        "from torchvision import models\n",
        "\n",
        "device = torch.device(\"cuda\" if torch.cuda.is_available() else \"cpu\")\n",
        "\n",
        "# Load the full model\n",
        "checkpoint_path = \"/content/drive/MyDrive/art_model/artist_model_resnet18_200.pth\"\n",
        "model1 = torch.load(checkpoint_path, map_location=device, weights_only=False)  # Explicitly allow full model loading\n",
        "\n",
        "# Set to evaluation mode\n",
        "model1.eval()\n",
        "\n",
        "print(\"Model successfully loaded!\")\n"
      ],
      "metadata": {
        "id": "lNzDHvIGGCrs",
        "colab": {
          "base_uri": "https://localhost:8080/"
        },
        "outputId": "5acff0f6-f26c-4c52-aaa5-2499c96c65aa"
      },
      "execution_count": null,
      "outputs": [
        {
          "output_type": "stream",
          "name": "stdout",
          "text": [
            "Model successfully loaded!\n"
          ]
        }
      ]
    },
    {
      "cell_type": "code",
      "source": [
        "# Example usage:\n",
        "#artist_model_resnet18_200\n",
        "model1_result = test_model(model1, artist_test_balanced_dataset, device)\n"
      ],
      "metadata": {
        "colab": {
          "base_uri": "https://localhost:8080/"
        },
        "id": "BlKEc8qSl0lX",
        "outputId": "ca68ede9-5aa8-44f7-efc0-75dd20c1ab82"
      },
      "execution_count": null,
      "outputs": [
        {
          "output_type": "stream",
          "name": "stderr",
          "text": [
            "Testing: 100%|██████████| 36/36 [07:38<00:00, 12.73s/it, loss=1.3]"
          ]
        },
        {
          "output_type": "stream",
          "name": "stdout",
          "text": [
            "\n",
            "Test Loss: 1.8682, Accuracy: 57.22%\n"
          ]
        },
        {
          "output_type": "stream",
          "name": "stderr",
          "text": [
            "\n"
          ]
        }
      ]
    },
    {
      "cell_type": "code",
      "source": [
        "num_classes"
      ],
      "metadata": {
        "colab": {
          "base_uri": "https://localhost:8080/"
        },
        "id": "mBgG-KGFwXO3",
        "outputId": "fbc8b28e-07af-455e-d6b5-9d74c7f30c1a"
      },
      "execution_count": null,
      "outputs": [
        {
          "output_type": "execute_result",
          "data": {
            "text/plain": [
              "23"
            ]
          },
          "metadata": {},
          "execution_count": 18
        }
      ]
    },
    {
      "cell_type": "code",
      "source": [
        "import torch\n",
        "import torch.nn as nn\n",
        "from torchvision import models\n",
        "\n",
        "device = torch.device(\"cuda\" if torch.cuda.is_available() else \"cpu\")\n",
        "\n",
        "\n",
        "model2 = models.resnet18(weights=None)  # Initialize model without pre-trained weights\n",
        "model2.fc = nn.Linear(model2.fc.in_features, num_classes)  # Modify the FC layer\n",
        "model2 = model2.to(device)\n",
        "\n",
        "# Load state_dict (weights) into model\n",
        "checkpoint_path = \"/content/drive/MyDrive/art_model/artist_finetunned_resnet18_200.pth\"\n",
        "state_dict = torch.load(checkpoint_path, map_location=device)  # Load weights\n",
        "model2.load_state_dict(state_dict)  # Load into model\n",
        "\n",
        "# Set to evaluation mode\n",
        "model2.eval()\n",
        "\n",
        "print(\"Model successfully loaded!\")\n"
      ],
      "metadata": {
        "colab": {
          "base_uri": "https://localhost:8080/"
        },
        "id": "0I9mzmxUvHox",
        "outputId": "71148175-a74e-47d9-cf32-67805ed27d2d"
      },
      "execution_count": null,
      "outputs": [
        {
          "output_type": "stream",
          "name": "stdout",
          "text": [
            "Model successfully loaded!\n"
          ]
        }
      ]
    },
    {
      "cell_type": "code",
      "source": [
        "# Example usage:\n",
        "#artist_finetunned_resnet18_200\n",
        "model2_result = test_model(model2, artist_test_balanced_dataset, device)\n"
      ],
      "metadata": {
        "colab": {
          "base_uri": "https://localhost:8080/"
        },
        "id": "1cKIctCbvsI3",
        "outputId": "67c9705b-de6e-4ded-b035-fbc73ce8184f"
      },
      "execution_count": null,
      "outputs": [
        {
          "output_type": "stream",
          "name": "stderr",
          "text": [
            "Testing: 100%|██████████| 36/36 [02:09<00:00,  3.59s/it, loss=0.211]"
          ]
        },
        {
          "output_type": "stream",
          "name": "stdout",
          "text": [
            "\n",
            "Test Loss: 0.7194, Accuracy: 79.48%\n"
          ]
        },
        {
          "output_type": "stream",
          "name": "stderr",
          "text": [
            "\n"
          ]
        }
      ]
    },
    {
      "cell_type": "code",
      "source": [
        "import torch\n",
        "import torch.nn as nn\n",
        "from torchvision import models\n",
        "\n",
        "device = torch.device(\"cuda\" if torch.cuda.is_available() else \"cpu\")\n",
        "\n",
        "\n",
        "model3 = models.resnet50(weights=None)  # Initialize model without pre-trained weights\n",
        "model3.fc = nn.Linear(model3.fc.in_features, num_classes)  # Modify the FC layer\n",
        "model3 = model3.to(device)\n",
        "\n",
        "# Load state_dict (weights) into model\n",
        "checkpoint_path = \"/content/drive/MyDrive/art_model/artist_model_resnet50_200.pth\"\n",
        "state_dict = torch.load(checkpoint_path, map_location=device)  # Load weights\n",
        "model3.load_state_dict(state_dict)  # Load into model\n",
        "\n",
        "# Set to evaluation mode\n",
        "model3.eval()\n",
        "\n",
        "print(\"Model successfully loaded!\")\n"
      ],
      "metadata": {
        "colab": {
          "base_uri": "https://localhost:8080/"
        },
        "id": "UXReicSzxoJI",
        "outputId": "6f0788c3-ab03-4d4d-a7a3-e6f37add1c8b"
      },
      "execution_count": null,
      "outputs": [
        {
          "output_type": "stream",
          "name": "stdout",
          "text": [
            "Model successfully loaded!\n"
          ]
        }
      ]
    },
    {
      "cell_type": "code",
      "source": [
        "# Example usage:\n",
        "#artist_model_resnet50_200\n",
        "model3_result = test_model(model3, artist_test_balanced_dataset, device)\n"
      ],
      "metadata": {
        "colab": {
          "base_uri": "https://localhost:8080/"
        },
        "id": "bPQoVUHA2DOB",
        "outputId": "27f41619-099b-4346-86c0-4a27971aac9f"
      },
      "execution_count": null,
      "outputs": [
        {
          "output_type": "stream",
          "name": "stderr",
          "text": [
            "Testing: 100%|██████████| 36/36 [05:08<00:00,  8.57s/it, loss=0.265]"
          ]
        },
        {
          "output_type": "stream",
          "name": "stdout",
          "text": [
            "\n",
            "Test Loss: 0.7576, Accuracy: 79.22%\n"
          ]
        },
        {
          "output_type": "stream",
          "name": "stderr",
          "text": [
            "\n"
          ]
        }
      ]
    },
    {
      "cell_type": "code",
      "source": [
        "import torch\n",
        "import torch.nn as nn\n",
        "from torchvision import models\n",
        "\n",
        "device = torch.device(\"cuda\" if torch.cuda.is_available() else \"cpu\")\n",
        "\n",
        "\n",
        "model4 = models.resnet50(weights=None)  # Initialize model without pre-trained weights\n",
        "model4.fc = nn.Linear(model4.fc.in_features, num_classes)  # Modify the FC layer\n",
        "model4 = model4.to(device)\n",
        "\n",
        "# Load state_dict (weights) into model\n",
        "checkpoint_path = \"/content/drive/MyDrive/art_model/artist_model_ReduceLROnPlateau_resnet50_200.pth\"\n",
        "state_dict = torch.load(checkpoint_path, map_location=device)  # Load weights\n",
        "model4.load_state_dict(state_dict)  # Load into model\n",
        "\n",
        "# Set to evaluation mode\n",
        "model4.eval()\n",
        "\n",
        "print(\"Model successfully loaded!\")\n"
      ],
      "metadata": {
        "colab": {
          "base_uri": "https://localhost:8080/"
        },
        "id": "DgCIaFfp3Kv5",
        "outputId": "4dfe20e2-6a39-4d6a-c0c5-a6fed8b1da58"
      },
      "execution_count": null,
      "outputs": [
        {
          "output_type": "stream",
          "name": "stdout",
          "text": [
            "Model successfully loaded!\n"
          ]
        }
      ]
    },
    {
      "cell_type": "code",
      "source": [
        "# Example usage:\n",
        "#artist_model_ReduceLROnPlateau_resnet50_200\n",
        "model4_result = test_model(model4, artist_test_balanced_dataset, device)\n"
      ],
      "metadata": {
        "colab": {
          "base_uri": "https://localhost:8080/"
        },
        "id": "ku1sOCA03n6j",
        "outputId": "c49dbc1a-edae-4da2-dbc8-cf378cb7cc25"
      },
      "execution_count": null,
      "outputs": [
        {
          "output_type": "stream",
          "name": "stderr",
          "text": [
            "Testing: 100%|██████████| 36/36 [05:17<00:00,  8.81s/it, loss=0.314]"
          ]
        },
        {
          "output_type": "stream",
          "name": "stdout",
          "text": [
            "\n",
            "Test Loss: 0.7825, Accuracy: 78.35%\n"
          ]
        },
        {
          "output_type": "stream",
          "name": "stderr",
          "text": [
            "\n"
          ]
        }
      ]
    },
    {
      "cell_type": "code",
      "source": [
        "import torch\n",
        "import torch.nn as nn\n",
        "from torchvision import models\n",
        "\n",
        "# Define the same model architecture\n",
        "class ResNetRNN(nn.Module):\n",
        "    def __init__(self, num_classes, hidden_size=256, num_layers=2):\n",
        "        super(ResNetRNN, self).__init__()\n",
        "        self.resnet = models.resnet50(weights=models.ResNet50_Weights.DEFAULT)\n",
        "        self.resnet.fc = nn.Identity()  # Remove FC layer to get feature maps\n",
        "\n",
        "        # LSTM layer\n",
        "        self.lstm = nn.LSTM(input_size=2048, hidden_size=hidden_size, num_layers=num_layers, batch_first=True, bidirectional=True)\n",
        "\n",
        "        # Fully connected layer\n",
        "        self.fc = nn.Linear(hidden_size * 2, num_classes)  # Bidirectional doubles the hidden size\n",
        "\n",
        "    def forward(self, x):\n",
        "        features = self.resnet(x)  # Shape: (batch_size, 2048)\n",
        "        features = features.unsqueeze(1)  # Add time dimension: (batch_size, 1, 2048)\n",
        "\n",
        "        lstm_out, _ = self.lstm(features)\n",
        "        lstm_out = lstm_out[:, -1, :]  # Last timestep output\n",
        "\n",
        "        output = self.fc(lstm_out)\n",
        "        return output\n",
        "\n",
        "# Load model\n",
        "num_classes = 23  # Update with actual number of classes\n",
        "device = torch.device(\"cuda\" if torch.cuda.is_available() else \"cpu\")\n",
        "\n",
        "model5 = ResNetRNN(num_classes=num_classes).to(device)\n",
        "\n",
        "# Load saved model weights\n",
        "checkpoint_path = \"/content/drive/MyDrive/art_model/artist_resnet50_lstm_model.pth\"\n",
        "model5.load_state_dict(torch.load(checkpoint_path, map_location=device))\n",
        "\n",
        "# Set model to evaluation mode\n",
        "model5.eval()\n",
        "print(\"✅ Model loaded successfully!\")\n"
      ],
      "metadata": {
        "colab": {
          "base_uri": "https://localhost:8080/"
        },
        "id": "ntL9F7pQPDTy",
        "outputId": "51e52d4b-8ec4-4a7c-fd08-7ae98c9e7a8a"
      },
      "execution_count": null,
      "outputs": [
        {
          "output_type": "stream",
          "name": "stdout",
          "text": [
            "✅ Model loaded successfully!\n"
          ]
        }
      ]
    },
    {
      "cell_type": "code",
      "source": [
        "# artist_resnet50_lstm_model\n",
        "# Example usage:\n",
        "#artist_model_ReduceLROnPlateau_resnet50_200\n",
        "model5_result = test_model(model5, artist_test_balanced_dataset, device)\n"
      ],
      "metadata": {
        "colab": {
          "base_uri": "https://localhost:8080/"
        },
        "id": "ENXqH69WPIdU",
        "outputId": "c03758cd-171d-4b39-959e-b5cfdba8720e"
      },
      "execution_count": null,
      "outputs": [
        {
          "output_type": "stream",
          "name": "stderr",
          "text": [
            "Testing: 100%|██████████| 36/36 [04:46<00:00,  7.96s/it, loss=0.392]"
          ]
        },
        {
          "output_type": "stream",
          "name": "stdout",
          "text": [
            "\n",
            "Test Loss: 0.8610, Accuracy: 74.78%\n"
          ]
        },
        {
          "output_type": "stream",
          "name": "stderr",
          "text": [
            "\n"
          ]
        }
      ]
    },
    {
      "cell_type": "code",
      "source": [
        "import torch\n",
        "import torch.nn as nn\n",
        "from torchvision import models\n",
        "\n",
        "device = torch.device(\"cuda\" if torch.cuda.is_available() else \"cpu\")\n",
        "\n",
        "\n",
        "model0 = models.resnet18(weights=None)  # Initialize model without pre-trained weights\n",
        "model0.fc = nn.Linear(model0.fc.in_features, num_classes)  # Modify the FC layer\n",
        "model0 = model0.to(device)\n",
        "\n",
        "# Load state_dict (weights) into model\n",
        "checkpoint_path = \"/content/drive/MyDrive/art_model/artist_model_resnet18_32.pth\"\n",
        "state_dict = torch.load(checkpoint_path, map_location=device)  # Load weights\n",
        "model0.load_state_dict(state_dict)  # Load into model\n",
        "\n",
        "# Set to evaluation mode\n",
        "model0.eval()\n",
        "\n",
        "print(\"Model successfully loaded!\")\n"
      ],
      "metadata": {
        "colab": {
          "base_uri": "https://localhost:8080/"
        },
        "id": "l0heCf6e5wdx",
        "outputId": "43c3cd81-9391-4598-bfbf-b8b08f6ec658"
      },
      "execution_count": null,
      "outputs": [
        {
          "output_type": "stream",
          "name": "stdout",
          "text": [
            "Model successfully loaded!\n"
          ]
        }
      ]
    },
    {
      "cell_type": "code",
      "source": [
        "# Example usage:\n",
        "#artist_model_resnet18_32\n",
        "model0_result = test_model(model0, artist_test_balanced_dataset, device)\n"
      ],
      "metadata": {
        "colab": {
          "base_uri": "https://localhost:8080/"
        },
        "id": "Kd9Mfgiq5Or_",
        "outputId": "cd1410df-ecf8-4114-9729-2b1757a07808"
      },
      "execution_count": null,
      "outputs": [
        {
          "output_type": "stream",
          "name": "stderr",
          "text": [
            "Testing: 100%|██████████| 36/36 [02:06<00:00,  3.52s/it, loss=4.16]"
          ]
        },
        {
          "output_type": "stream",
          "name": "stdout",
          "text": [
            "\n",
            "Test Loss: 3.9084, Accuracy: 30.87%\n"
          ]
        },
        {
          "output_type": "stream",
          "name": "stderr",
          "text": [
            "\n"
          ]
        }
      ]
    },
    {
      "cell_type": "code",
      "source": [
        "import pandas as pd\n",
        "\n",
        "# Number of classes\n",
        "num_classes = len(artist_class)  # Update this based on your dataset\n",
        "\n",
        "# Store all model results in a list\n",
        "results = [\n",
        "    (\"artist_model_resnet18_32\", model0_result[0], model0_result[1], 32, 32 * num_classes),\n",
        "    (\"artist_model_resnet18_200\", model1_result[0], model1_result[1], 200, 200 * num_classes),\n",
        "    (\"artist_finetunned_resnet18_200\", model2_result[0], model2_result[1], 200, 200 * num_classes),\n",
        "    (\"artist_model_finetunned_resnet50_200\", model3_result[0], model3_result[1], 200, 200 * num_classes),\n",
        "    (\"artist_model_finetuned_with_ReduceLROnPlateau_resnet50_200\", model4_result[0], model4_result[1], 200, 200 * num_classes),\n",
        "     (\"artist_resnet50_lstm_model\", model5_result[0], model5_result[1], 200, 200 * num_classes),\n",
        "]\n",
        "\n",
        "# Create a DataFrame\n",
        "df = pd.DataFrame(results, columns=[\"Model\", \"Test Loss\", \"Accuracy (%)\", \"Images per Class\", \"Total Images\"])\n",
        "\n",
        "# Display the table\n",
        "print(df)\n"
      ],
      "metadata": {
        "colab": {
          "base_uri": "https://localhost:8080/"
        },
        "id": "6TKgpVS69Pko",
        "outputId": "c46880ef-1fa9-40a8-fb33-d93142554b61"
      },
      "execution_count": null,
      "outputs": [
        {
          "output_type": "stream",
          "name": "stdout",
          "text": [
            "                                               Model  Test Loss  Accuracy (%)  \\\n",
            "0                           artist_model_resnet18_32   3.908368     30.869565   \n",
            "1                          artist_model_resnet18_200   1.868159     57.217391   \n",
            "2                     artist_finetunned_resnet18_200   0.719381     79.478261   \n",
            "3               artist_model_finetunned_resnet50_200   0.757617     79.217391   \n",
            "4  artist_model_finetuned_with_ReduceLROnPlateau_...   0.782543     78.347826   \n",
            "5                         artist_resnet50_lstm_model   0.861030     74.782609   \n",
            "\n",
            "   Images per Class  Total Images  \n",
            "0                32           736  \n",
            "1               200          4600  \n",
            "2               200          4600  \n",
            "3               200          4600  \n",
            "4               200          4600  \n",
            "5               200          4600  \n"
          ]
        }
      ]
    },
    {
      "cell_type": "code",
      "source": [
        "from tabulate import tabulate\n",
        "\n",
        "# Print the table in a structured format\n",
        "print(tabulate(df, headers='keys', tablefmt='grid'))\n"
      ],
      "metadata": {
        "colab": {
          "base_uri": "https://localhost:8080/"
        },
        "id": "NsyCtEuyHV3F",
        "outputId": "d07a3f69-7c97-46e4-fa9b-63694ab599a8"
      },
      "execution_count": null,
      "outputs": [
        {
          "output_type": "stream",
          "name": "stdout",
          "text": [
            "+----+------------------------------------------------------------+-------------+----------------+--------------------+----------------+\n",
            "|    | Model                                                      |   Test Loss |   Accuracy (%) |   Images per Class |   Total Images |\n",
            "+====+============================================================+=============+================+====================+================+\n",
            "|  0 | artist_model_resnet18_32                                   |    3.90837  |        30.8696 |                 32 |            736 |\n",
            "+----+------------------------------------------------------------+-------------+----------------+--------------------+----------------+\n",
            "|  1 | artist_model_resnet18_200                                  |    1.86816  |        57.2174 |                200 |           4600 |\n",
            "+----+------------------------------------------------------------+-------------+----------------+--------------------+----------------+\n",
            "|  2 | artist_finetunned_resnet18_200                             |    0.719381 |        79.4783 |                200 |           4600 |\n",
            "+----+------------------------------------------------------------+-------------+----------------+--------------------+----------------+\n",
            "|  3 | artist_model_finetunned_resnet50_200                       |    0.757617 |        79.2174 |                200 |           4600 |\n",
            "+----+------------------------------------------------------------+-------------+----------------+--------------------+----------------+\n",
            "|  4 | artist_model_finetuned_with_ReduceLROnPlateau_resnet50_200 |    0.782543 |        78.3478 |                200 |           4600 |\n",
            "+----+------------------------------------------------------------+-------------+----------------+--------------------+----------------+\n",
            "|  5 | artist_resnet50_lstm_model                                 |    0.86103  |        74.7826 |                200 |           4600 |\n",
            "+----+------------------------------------------------------------+-------------+----------------+--------------------+----------------+\n"
          ]
        }
      ]
    },
    {
      "cell_type": "code",
      "source": [
        "import numpy as np\n",
        "import matplotlib.pyplot as plt\n",
        "import seaborn as sns\n",
        "\n",
        "# Apply Seaborn style\n",
        "sns.set_style(\"whitegrid\")\n",
        "\n",
        "# Create figure\n",
        "fig, ax1 = plt.subplots(figsize=(12, 6))\n",
        "\n",
        "# X-axis labels and positions\n",
        "x_labels = df[\"Model\"]\n",
        "x = np.arange(len(x_labels))\n",
        "\n",
        "# Plot Accuracy Bars\n",
        "ax1.bar(\n",
        "    x - 0.2, df[\"Accuracy (%)\"], width=0.4, label=\"Accuracy (%)\",\n",
        "    color='royalblue', edgecolor=\"black\", alpha=0.85\n",
        ")\n",
        "\n",
        "# Create a secondary axis for Test Loss\n",
        "ax2 = ax1.twinx()\n",
        "ax2.bar(\n",
        "    x + 0.2, df[\"Test Loss\"], width=0.4, label=\"Test Loss\",\n",
        "    color='tomato', edgecolor=\"black\", alpha=0.85\n",
        ")\n",
        "\n",
        "# Formatting\n",
        "ax1.set_xlabel(\"Model\", fontsize=12, fontweight=\"bold\")\n",
        "ax1.set_ylabel(\"Accuracy (%)\", color='royalblue', fontsize=12, fontweight=\"bold\")\n",
        "ax2.set_ylabel(\"Test Loss\", color='tomato', fontsize=12, fontweight=\"bold\")\n",
        "\n",
        "# X-axis labels\n",
        "ax1.set_xticks(x)\n",
        "ax1.set_xticklabels(x_labels, rotation=20, ha=\"right\", fontsize=11)\n",
        "\n",
        "# Add grid lines\n",
        "ax1.grid(axis=\"y\", linestyle=\"--\", alpha=0.7)\n",
        "\n",
        "# Add Legends\n",
        "ax1.legend(loc=\"upper left\", fontsize=10, frameon=True)\n",
        "ax2.legend(loc=\"upper right\", fontsize=10, frameon=True)\n",
        "\n",
        "# Add title\n",
        "plt.title(\"📊 Model Performance: Accuracy vs Test Loss\", fontsize=14, fontweight=\"bold\", pad=15)\n",
        "\n",
        "# Improve layout\n",
        "plt.tight_layout()\n",
        "plt.show()\n"
      ],
      "metadata": {
        "colab": {
          "base_uri": "https://localhost:8080/",
          "height": 676
        },
        "id": "uBcfDCSlOaaK",
        "outputId": "41d14ba6-fcfd-49dc-f6ca-5986a0b2aac5"
      },
      "execution_count": null,
      "outputs": [
        {
          "output_type": "stream",
          "name": "stderr",
          "text": [
            "<ipython-input-53-7035ce5ebb8c>:48: UserWarning: Glyph 128202 (\\N{BAR CHART}) missing from font(s) DejaVu Sans.\n",
            "  plt.tight_layout()\n",
            "/usr/local/lib/python3.11/dist-packages/IPython/core/pylabtools.py:151: UserWarning: Glyph 128202 (\\N{BAR CHART}) missing from font(s) DejaVu Sans.\n",
            "  fig.canvas.print_figure(bytes_io, **kw)\n"
          ]
        },
        {
          "output_type": "display_data",
          "data": {
            "text/plain": [
              "<Figure size 1200x600 with 2 Axes>"
            ],
            "image/png": "[encoded data removed]"
          },
          "metadata": {}
        }
      ]
    },
    {
      "cell_type": "markdown",
      "source": [
        "## Style Models"
      ],
      "metadata": {
        "id": "coVpejHQZAaf"
      }
    },
    {
      "cell_type": "code",
      "source": [],
      "metadata": {
        "id": "stkmrD5rHVKR"
      },
      "execution_count": null,
      "outputs": []
    },
    {
      "cell_type": "code",
      "source": [
        "print(\"Creating balanced style dataset...\")\n",
        "\n",
        "style_test_balanced_dataset = BalancedArtDataset(style_val_path, \"/content/drive/MyDrive/data/images\", style_class_path, transform=transform, images_per_class=50)\n",
        "\n"
      ],
      "metadata": {
        "id": "sYiKsD8tZHjH",
        "colab": {
          "base_uri": "https://localhost:8080/"
        },
        "outputId": "923777a5-d369-43aa-ffeb-b420ef4da983"
      },
      "execution_count": null,
      "outputs": [
        {
          "output_type": "stream",
          "name": "stdout",
          "text": [
            "Creating balanced style dataset...\n",
            "Filtering missing images...\n",
            "Grouping images by class...\n"
          ]
        },
        {
          "output_type": "stream",
          "name": "stderr",
          "text": [
            "Processing rows: 100%|██████████| 24421/24421 [00:02<00:00, 11168.63it/s]\n"
          ]
        },
        {
          "output_type": "stream",
          "name": "stdout",
          "text": [
            "Balancing dataset...\n"
          ]
        },
        {
          "output_type": "stream",
          "name": "stderr",
          "text": [
            "Processing classes: 100%|██████████| 27/27 [00:00<00:00, 11185.92it/s]"
          ]
        },
        {
          "output_type": "stream",
          "name": "stdout",
          "text": [
            "Filling missing slots...\n",
            "Shuffling dataset...\n"
          ]
        },
        {
          "output_type": "stream",
          "name": "stderr",
          "text": [
            "\n"
          ]
        }
      ]
    },
    {
      "cell_type": "code",
      "source": [
        "num_style_classes = len(style_class)"
      ],
      "metadata": {
        "id": "KWHTsTHzWsFY"
      },
      "execution_count": null,
      "outputs": []
    },
    {
      "cell_type": "code",
      "source": [
        "import torch\n",
        "import torch.nn as nn\n",
        "from torchvision import models\n",
        "\n",
        "device = torch.device(\"cuda\" if torch.cuda.is_available() else \"cpu\")\n",
        "\n",
        "\n",
        "style_model1 = models.resnet18(weights=None)  # Initialize model without pre-trained weights\n",
        "style_model1.fc = nn.Linear(style_model1.fc.in_features, num_style_classes)  # Modify the FC layer\n",
        "style_model1 = style_model1.to(device)\n",
        "\n",
        "# Load state_dict (weights) into model\n",
        "checkpoint_path =  \"/content/drive/MyDrive/art_model/style_model_resnet18_32.pth\"\n",
        "state_dict = torch.load(checkpoint_path, map_location=device)  # Load weights\n",
        "style_model1.load_state_dict(state_dict)  # Load into model\n",
        "\n",
        "# Set to evaluation mode\n",
        "style_model1.eval()\n",
        "\n",
        "print(\"Model successfully loaded!\")\n"
      ],
      "metadata": {
        "colab": {
          "base_uri": "https://localhost:8080/"
        },
        "id": "poQmJRELWbPi",
        "outputId": "8b08ce91-f47a-4c30-a468-ee23dbf3e1b3"
      },
      "execution_count": null,
      "outputs": [
        {
          "output_type": "stream",
          "name": "stdout",
          "text": [
            "Model successfully loaded!\n"
          ]
        }
      ]
    },
    {
      "cell_type": "code",
      "source": [
        "# Example usage:\n",
        "#style_model_resnet18_32\n",
        "style_model1_result = test_model(style_model1, style_test_balanced_dataset, device)\n"
      ],
      "metadata": {
        "colab": {
          "base_uri": "https://localhost:8080/"
        },
        "id": "9F69MYsbNY4w",
        "outputId": "a5137acc-3db7-405d-8e82-1c9f39e50ad1"
      },
      "execution_count": null,
      "outputs": [
        {
          "output_type": "stream",
          "name": "stderr",
          "text": [
            "Testing: 100%|██████████| 43/43 [09:21<00:00, 13.06s/it, loss=2.14]"
          ]
        },
        {
          "output_type": "stream",
          "name": "stdout",
          "text": [
            "\n",
            "Test Loss: 2.0344, Accuracy: 39.56%\n"
          ]
        },
        {
          "output_type": "stream",
          "name": "stderr",
          "text": [
            "\n"
          ]
        }
      ]
    },
    {
      "cell_type": "code",
      "source": [
        "import torch\n",
        "import torch.nn as nn\n",
        "from torchvision import models\n",
        "\n",
        "device = torch.device(\"cuda\" if torch.cuda.is_available() else \"cpu\")\n",
        "\n",
        "\n",
        "style_model2 = models.resnet18(weights=None)  # Initialize model without pre-trained weights\n",
        "style_model2.fc = nn.Linear(style_model2.fc.in_features, num_style_classes)  # Modify the FC layer\n",
        "style_model2 = style_model2.to(device)\n",
        "\n",
        "# Load state_dict (weights) into model\n",
        "checkpoint_path =  \"/content/drive/MyDrive/art_model/style_model_resnet18_200.pth\"\n",
        "state_dict = torch.load(checkpoint_path, map_location=device)  # Load weights\n",
        "style_model2.load_state_dict(state_dict)  # Load into model\n",
        "\n",
        "# Set to evaluation mode\n",
        "style_model2.eval()\n",
        "\n",
        "print(\"Model successfully loaded!\")\n"
      ],
      "metadata": {
        "colab": {
          "base_uri": "https://localhost:8080/"
        },
        "id": "NnkXUUZQZ3LG",
        "outputId": "7c901fb3-9f95-42aa-f680-96a38750abed"
      },
      "execution_count": null,
      "outputs": [
        {
          "output_type": "stream",
          "name": "stdout",
          "text": [
            "Model successfully loaded!\n"
          ]
        }
      ]
    },
    {
      "cell_type": "code",
      "source": [
        "# Example usage:\n",
        "#style_model_resnet18_200\n",
        "style_model2_result = test_model(style_model2, style_test_balanced_dataset, device)\n"
      ],
      "metadata": {
        "colab": {
          "base_uri": "https://localhost:8080/"
        },
        "id": "0vG3TJ_3Z5UN",
        "outputId": "0a0ee49e-adc0-4379-d337-a7d536f57c36"
      },
      "execution_count": null,
      "outputs": [
        {
          "output_type": "stream",
          "name": "stderr",
          "text": [
            "Testing: 100%|██████████| 43/43 [02:39<00:00,  3.72s/it, loss=1.61]"
          ]
        },
        {
          "output_type": "stream",
          "name": "stdout",
          "text": [
            "\n",
            "Test Loss: 1.7901, Accuracy: 48.81%\n"
          ]
        },
        {
          "output_type": "stream",
          "name": "stderr",
          "text": [
            "\n"
          ]
        }
      ]
    },
    {
      "cell_type": "code",
      "source": [
        "import torch\n",
        "import torch.nn as nn\n",
        "from torchvision import models\n",
        "\n",
        "device = torch.device(\"cuda\" if torch.cuda.is_available() else \"cpu\")\n",
        "\n",
        "\n",
        "style_model3 = models.resnet50(weights=None)  # Initialize model without pre-trained weights\n",
        "style_model3.fc = nn.Linear(style_model3.fc.in_features, num_style_classes)  # Modify the FC layer\n",
        "style_model3 = style_model3.to(device)\n",
        "\n",
        "# Load state_dict (weights) into model\n",
        "checkpoint_path = \"/content/drive/MyDrive/art_model/style_model_resnet50_200.pth\"\n",
        "state_dict = torch.load(checkpoint_path, map_location=device)  # Load weights\n",
        "style_model3.load_state_dict(state_dict)  # Load into model\n",
        "\n",
        "# Set to evaluation mode\n",
        "style_model3.eval()\n",
        "\n",
        "print(\"Model successfully loaded!\")\n"
      ],
      "metadata": {
        "colab": {
          "base_uri": "https://localhost:8080/"
        },
        "id": "4vQpQhYJan0O",
        "outputId": "8df271a1-937b-488a-adff-4a1b7c8dfdce"
      },
      "execution_count": null,
      "outputs": [
        {
          "output_type": "stream",
          "name": "stdout",
          "text": [
            "Model successfully loaded!\n"
          ]
        }
      ]
    },
    {
      "cell_type": "code",
      "source": [
        "# Example usage:\n",
        "#style_model_resnet18_200\n",
        "style_model3_result = test_model(style_model3, style_test_balanced_dataset, device)\n"
      ],
      "metadata": {
        "colab": {
          "base_uri": "https://localhost:8080/"
        },
        "id": "xCrQRyNPbRXL",
        "outputId": "13157f03-b389-4ba4-e66f-f327e76459d9"
      },
      "execution_count": null,
      "outputs": [
        {
          "output_type": "stream",
          "name": "stderr",
          "text": [
            "Testing: 100%|██████████| 43/43 [06:24<00:00,  8.95s/it, loss=1.57]"
          ]
        },
        {
          "output_type": "stream",
          "name": "stdout",
          "text": [
            "\n",
            "Test Loss: 1.5650, Accuracy: 50.44%\n"
          ]
        },
        {
          "output_type": "stream",
          "name": "stderr",
          "text": [
            "\n"
          ]
        }
      ]
    },
    {
      "cell_type": "code",
      "source": [
        "import pandas as pd\n",
        "\n",
        "# Number of classes\n",
        "num_classes = len(artist_class)  # Update this based on your dataset\n",
        "\n",
        "# Store all model results in a list\n",
        "results = [\n",
        "    (\"style_model_resnet18_32\", style_model1_result[0], style_model1_result[1], 32, 32 * num_style_classes),\n",
        "    (\"style_model_resnet18_200\", style_model2_result[0], style_model2_result[1], 200, 200 * num_style_classes),\n",
        "    (\"style_model_resnet50_200\", style_model3_result[0], style_model3_result[1], 200, 200 * num_style_classes),\n",
        "\n",
        "]\n",
        "\n",
        "# Create a DataFrame\n",
        "df = pd.DataFrame(results, columns=[\"Model\", \"Test Loss\", \"Accuracy (%)\", \"Images per Class\", \"Total Images\"])\n",
        "\n",
        "# Display the table\n",
        "print(df)\n"
      ],
      "metadata": {
        "colab": {
          "base_uri": "https://localhost:8080/"
        },
        "id": "gBaH9HKKblYV",
        "outputId": "06c8dc33-499f-4985-ed01-bcfab77c906d"
      },
      "execution_count": null,
      "outputs": [
        {
          "output_type": "stream",
          "name": "stdout",
          "text": [
            "                      Model  Test Loss  Accuracy (%)  Images per Class  \\\n",
            "0   style_model_resnet18_32   2.034437     39.555556                32   \n",
            "1  style_model_resnet18_200   1.790070     48.814815               200   \n",
            "2  style_model_resnet50_200   1.565045     50.444444               200   \n",
            "\n",
            "   Total Images  \n",
            "0           864  \n",
            "1          5400  \n",
            "2          5400  \n"
          ]
        }
      ]
    },
    {
      "cell_type": "code",
      "source": [
        "from tabulate import tabulate\n",
        "\n",
        "# Print the table in a structured format\n",
        "print(tabulate(df, headers='keys', tablefmt='grid'))\n"
      ],
      "metadata": {
        "colab": {
          "base_uri": "https://localhost:8080/"
        },
        "id": "tZCky3RWcH3_",
        "outputId": "4ed88e45-dc61-47c0-a4d9-d8a95da54a9f"
      },
      "execution_count": null,
      "outputs": [
        {
          "output_type": "stream",
          "name": "stdout",
          "text": [
            "+----+--------------------------+-------------+----------------+--------------------+----------------+\n",
            "|    | Model                    |   Test Loss |   Accuracy (%) |   Images per Class |   Total Images |\n",
            "+====+==========================+=============+================+====================+================+\n",
            "|  0 | style_model_resnet18_32  |     2.03444 |        39.5556 |                 32 |            864 |\n",
            "+----+--------------------------+-------------+----------------+--------------------+----------------+\n",
            "|  1 | style_model_resnet18_200 |     1.79007 |        48.8148 |                200 |           5400 |\n",
            "+----+--------------------------+-------------+----------------+--------------------+----------------+\n",
            "|  2 | style_model_resnet50_200 |     1.56505 |        50.4444 |                200 |           5400 |\n",
            "+----+--------------------------+-------------+----------------+--------------------+----------------+\n"
          ]
        }
      ]
    },
    {
      "cell_type": "code",
      "source": [
        "import numpy as np\n",
        "import matplotlib.pyplot as plt\n",
        "import seaborn as sns\n",
        "\n",
        "# Apply Seaborn style\n",
        "sns.set_style(\"whitegrid\")\n",
        "\n",
        "# Create figure\n",
        "fig, ax1 = plt.subplots(figsize=(12, 6))\n",
        "\n",
        "# X-axis labels and positions\n",
        "x_labels = df[\"Model\"]\n",
        "x = np.arange(len(x_labels))\n",
        "\n",
        "# Plot Accuracy Bars\n",
        "ax1.bar(\n",
        "    x - 0.2, df[\"Accuracy (%)\"], width=0.4, label=\"Accuracy (%)\",\n",
        "    color='royalblue', edgecolor=\"black\", alpha=0.85\n",
        ")\n",
        "\n",
        "# Create a secondary axis for Test Loss\n",
        "ax2 = ax1.twinx()\n",
        "ax2.bar(\n",
        "    x + 0.2, df[\"Test Loss\"], width=0.4, label=\"Test Loss\",\n",
        "    color='tomato', edgecolor=\"black\", alpha=0.85\n",
        ")\n",
        "\n",
        "# Formatting\n",
        "ax1.set_xlabel(\"Model\", fontsize=12, fontweight=\"bold\")\n",
        "ax1.set_ylabel(\"Accuracy (%)\", color='royalblue', fontsize=12, fontweight=\"bold\")\n",
        "ax2.set_ylabel(\"Test Loss\", color='tomato', fontsize=12, fontweight=\"bold\")\n",
        "\n",
        "# X-axis labels\n",
        "ax1.set_xticks(x)\n",
        "ax1.set_xticklabels(x_labels, rotation=20, ha=\"right\", fontsize=11)\n",
        "\n",
        "# Add grid lines\n",
        "ax1.grid(axis=\"y\", linestyle=\"--\", alpha=0.7)\n",
        "\n",
        "# Add Legends\n",
        "ax1.legend(loc=\"upper left\", fontsize=10, frameon=True)\n",
        "ax2.legend(loc=\"upper right\", fontsize=10, frameon=True)\n",
        "\n",
        "# Add title\n",
        "plt.title(\"📊 Model Performance: Accuracy vs Test Loss\", fontsize=14, fontweight=\"bold\", pad=15)\n",
        "\n",
        "# Improve layout\n",
        "plt.tight_layout()\n",
        "plt.show()\n"
      ],
      "metadata": {
        "colab": {
          "base_uri": "https://localhost:8080/",
          "height": 676
        },
        "id": "ieRywkh_cRTz",
        "outputId": "04db4f4d-86f8-44ca-9e83-9c690de295d5"
      },
      "execution_count": null,
      "outputs": [
        {
          "output_type": "stream",
          "name": "stderr",
          "text": [
            "<ipython-input-68-7035ce5ebb8c>:48: UserWarning: Glyph 128202 (\\N{BAR CHART}) missing from font(s) DejaVu Sans.\n",
            "  plt.tight_layout()\n",
            "/usr/local/lib/python3.11/dist-packages/IPython/core/pylabtools.py:151: UserWarning: Glyph 128202 (\\N{BAR CHART}) missing from font(s) DejaVu Sans.\n",
            "  fig.canvas.print_figure(bytes_io, **kw)\n"
          ]
        },
        {
          "output_type": "display_data",
          "data": {
            "text/plain": [
              "<Figure size 1200x600 with 2 Axes>"
            ],
            "image/png": "[encoded data removed]"
          },
          "metadata": {}
        }
      ]
    },
    {
      "cell_type": "markdown",
      "source": [
        "## Genre Models"
      ],
      "metadata": {
        "id": "Xuy9v6ghZD1e"
      }
    },
    {
      "cell_type": "code",
      "source": [],
      "metadata": {
        "id": "HOyAgUgQNXpi"
      },
      "execution_count": null,
      "outputs": []
    },
    {
      "cell_type": "code",
      "source": [
        "print(\"Creating balanced style dataset...\")\n",
        "\n",
        "genre_test_balanced_dataset = BalancedArtDataset(genre_val_path, \"/content/drive/MyDrive/data/images\", genre_class_path, transform=transform, images_per_class=50)\n",
        "\n"
      ],
      "metadata": {
        "id": "fOsGde2KZPh4",
        "colab": {
          "base_uri": "https://localhost:8080/"
        },
        "outputId": "523c4d0f-dee5-4105-f11f-ba14df0bb838"
      },
      "execution_count": null,
      "outputs": [
        {
          "output_type": "stream",
          "name": "stdout",
          "text": [
            "Creating balanced style dataset...\n",
            "Filtering missing images...\n",
            "Grouping images by class...\n"
          ]
        },
        {
          "output_type": "stream",
          "name": "stderr",
          "text": [
            "Processing rows: 100%|██████████| 19492/19492 [00:02<00:00, 7952.10it/s]\n"
          ]
        },
        {
          "output_type": "stream",
          "name": "stdout",
          "text": [
            "Balancing dataset...\n"
          ]
        },
        {
          "output_type": "stream",
          "name": "stderr",
          "text": [
            "Processing classes: 100%|██████████| 10/10 [00:00<00:00, 9642.08it/s]"
          ]
        },
        {
          "output_type": "stream",
          "name": "stdout",
          "text": [
            "Filling missing slots...\n",
            "Shuffling dataset...\n"
          ]
        },
        {
          "output_type": "stream",
          "name": "stderr",
          "text": [
            "\n"
          ]
        }
      ]
    },
    {
      "cell_type": "code",
      "source": [
        "num_genre_classes = len(genre_class)"
      ],
      "metadata": {
        "id": "JyCNUPPkzuOk"
      },
      "execution_count": null,
      "outputs": []
    },
    {
      "cell_type": "code",
      "source": [
        "import torch\n",
        "import torch.nn as nn\n",
        "from torchvision import models\n",
        "\n",
        "device = torch.device(\"cuda\" if torch.cuda.is_available() else \"cpu\")\n",
        "\n",
        "\n",
        "genre_model1 = models.resnet18(weights=None)  # Initialize model without pre-trained weights\n",
        "genre_model1.fc = nn.Linear(genre_model1.fc.in_features, num_genre_classes)  # Modify the FC layer\n",
        "genre_model1 = genre_model1.to(device)\n",
        "\n",
        "# Load state_dict (weights) into model\n",
        "checkpoint_path =  \"/content/drive/MyDrive/art_model/genre_model_resnet18_200.pth\"\n",
        "state_dict = torch.load(checkpoint_path, map_location=device)  # Load weights\n",
        "genre_model1.load_state_dict(state_dict)  # Load into model\n",
        "\n",
        "# Set to evaluation mode\n",
        "genre_model1.eval()\n",
        "\n",
        "print(\"Model successfully loaded!\")\n"
      ],
      "metadata": {
        "colab": {
          "base_uri": "https://localhost:8080/"
        },
        "id": "rj6_AZvoz0S-",
        "outputId": "a91e71e2-c235-4a39-ac59-9f5e0767e54d"
      },
      "execution_count": null,
      "outputs": [
        {
          "output_type": "stream",
          "name": "stdout",
          "text": [
            "Model successfully loaded!\n"
          ]
        }
      ]
    },
    {
      "cell_type": "code",
      "source": [
        "# Example usage:\n",
        "#style_model_resnet18_32\n",
        "genre_model1_result = test_model(genre_model1, genre_test_balanced_dataset, device)\n"
      ],
      "metadata": {
        "colab": {
          "base_uri": "https://localhost:8080/"
        },
        "id": "LKWkYlFd0skB",
        "outputId": "4e263354-cd3a-4857-e719-71b8bd41c826"
      },
      "execution_count": null,
      "outputs": [
        {
          "output_type": "stream",
          "name": "stderr",
          "text": [
            "Testing: 100%|██████████| 16/16 [01:05<00:00,  4.06s/it, loss=0.931]"
          ]
        },
        {
          "output_type": "stream",
          "name": "stdout",
          "text": [
            "\n",
            "Test Loss: 0.9571, Accuracy: 68.40%\n"
          ]
        },
        {
          "output_type": "stream",
          "name": "stderr",
          "text": [
            "\n"
          ]
        }
      ]
    },
    {
      "cell_type": "code",
      "source": [
        "import torch\n",
        "import torch.nn as nn\n",
        "from torchvision import models\n",
        "\n",
        "device = torch.device(\"cuda\" if torch.cuda.is_available() else \"cpu\")\n",
        "\n",
        "\n",
        "genre_model2 = models.resnet18(weights=None)  # Initialize model without pre-trained weights\n",
        "genre_model2.fc = nn.Linear(genre_model2.fc.in_features, num_genre_classes)  # Modify the FC layer\n",
        "genre_model2 = genre_model2.to(device)\n",
        "\n",
        "# Load state_dict (weights) into model\n",
        "checkpoint_path =  \"/content/drive/MyDrive/art_model/genre_model_resnet18__450.pth\"\n",
        "state_dict = torch.load(checkpoint_path, map_location=device)  # Load weights\n",
        "genre_model2.load_state_dict(state_dict)  # Load into model\n",
        "\n",
        "# Set to evaluation mode\n",
        "genre_model2.eval()\n",
        "\n",
        "print(\"Model successfully loaded!\")\n"
      ],
      "metadata": {
        "colab": {
          "base_uri": "https://localhost:8080/"
        },
        "id": "iKyKVGd500IO",
        "outputId": "c615ef8e-e759-4781-d76d-495a4211d2ac"
      },
      "execution_count": null,
      "outputs": [
        {
          "output_type": "stream",
          "name": "stdout",
          "text": [
            "Model successfully loaded!\n"
          ]
        }
      ]
    },
    {
      "cell_type": "code",
      "source": [
        "# Example usage:\n",
        "#style_model_resnet18_32\n",
        "genre_model2_result = test_model(genre_model2, genre_test_balanced_dataset, device)\n"
      ],
      "metadata": {
        "colab": {
          "base_uri": "https://localhost:8080/"
        },
        "id": "Dh4UJcG02Q4s",
        "outputId": "6d97904e-2af0-4f45-8cb3-7527c18c89d2"
      },
      "execution_count": null,
      "outputs": [
        {
          "output_type": "stream",
          "name": "stderr",
          "text": [
            "Testing: 100%|██████████| 16/16 [01:03<00:00,  3.99s/it, loss=0.752]"
          ]
        },
        {
          "output_type": "stream",
          "name": "stdout",
          "text": [
            "\n",
            "Test Loss: 1.0410, Accuracy: 68.40%\n"
          ]
        },
        {
          "output_type": "stream",
          "name": "stderr",
          "text": [
            "\n"
          ]
        }
      ]
    },
    {
      "cell_type": "code",
      "source": [
        "import torch\n",
        "import torch.nn as nn\n",
        "from torchvision import models\n",
        "\n",
        "device = torch.device(\"cuda\" if torch.cuda.is_available() else \"cpu\")\n",
        "\n",
        "\n",
        "genre_model3 = models.resnet50(weights=None)  # Initialize model without pre-trained weights\n",
        "genre_model3.fc = nn.Linear(genre_model3.fc.in_features, num_genre_classes)  # Modify the FC layer\n",
        "genre_model3 = genre_model3.to(device)\n",
        "\n",
        "# Load state_dict (weights) into model\n",
        "checkpoint_path = \"/content/drive/MyDrive/art_model/genre_model_resnet50_450.pth\"\n",
        "state_dict = torch.load(checkpoint_path, map_location=device)  # Load weights\n",
        "genre_model3.load_state_dict(state_dict)  # Load into model\n",
        "\n",
        "# Set to evaluation mode\n",
        "genre_model3.eval()\n",
        "\n",
        "print(\"Model successfully loaded!\")\n"
      ],
      "metadata": {
        "colab": {
          "base_uri": "https://localhost:8080/"
        },
        "id": "NM9q82vl2X1B",
        "outputId": "0156a2ed-955d-41d4-bf5a-a6700f6cf541"
      },
      "execution_count": null,
      "outputs": [
        {
          "output_type": "stream",
          "name": "stdout",
          "text": [
            "Model successfully loaded!\n"
          ]
        }
      ]
    },
    {
      "cell_type": "code",
      "source": [
        "# Example usage:\n",
        "#style_model_resnet18_32\n",
        "genre_model3_result = test_model(genre_model3, genre_test_balanced_dataset, device)\n"
      ],
      "metadata": {
        "colab": {
          "base_uri": "https://localhost:8080/"
        },
        "id": "_J2uQ_m92SH9",
        "outputId": "adcacf36-71f6-4f73-8b70-b3d35f1afa72"
      },
      "execution_count": null,
      "outputs": [
        {
          "output_type": "stream",
          "name": "stderr",
          "text": [
            "Testing: 100%|██████████| 16/16 [02:27<00:00,  9.24s/it, loss=0.804]"
          ]
        },
        {
          "output_type": "stream",
          "name": "stdout",
          "text": [
            "\n",
            "Test Loss: 0.8283, Accuracy: 74.20%\n"
          ]
        },
        {
          "output_type": "stream",
          "name": "stderr",
          "text": [
            "\n"
          ]
        }
      ]
    },
    {
      "cell_type": "code",
      "source": [
        "import pandas as pd\n",
        "\n",
        "# Number of classes\n",
        "num_classes = len(style_class)  # Update this based on your dataset\n",
        "\n",
        "# Store all model results in a list\n",
        "results = [\n",
        "    (\"genre_model_resnet18_200\", genre_model1_result[0], genre_model1_result[1], 32, 32 * num_genre_classes),\n",
        "    (\"genre_model_resnet18_450\", genre_model2_result[0], genre_model2_result[1], 200, 200 * num_genre_classes),\n",
        "    (\"genre_model_resnet50_450\", genre_model3_result[0], genre_model3_result[1], 200, 200 * num_genre_classes),\n",
        "\n",
        "]\n",
        "\n",
        "# Create a DataFrame\n",
        "df = pd.DataFrame(results, columns=[\"Model\", \"Test Loss\", \"Accuracy (%)\", \"Images per Class\", \"Total Images\"])\n",
        "\n",
        "# Display the table\n",
        "print(df)\n"
      ],
      "metadata": {
        "colab": {
          "base_uri": "https://localhost:8080/"
        },
        "id": "246IrkHj27oU",
        "outputId": "18a4b2f1-3261-45ca-d416-183a69b47175"
      },
      "execution_count": null,
      "outputs": [
        {
          "output_type": "stream",
          "name": "stdout",
          "text": [
            "                      Model  Test Loss  Accuracy (%)  Images per Class  \\\n",
            "0  genre_model_resnet18_200   0.957108          68.4                32   \n",
            "1  genre_model_resnet18_450   1.041029          68.4               200   \n",
            "2  genre_model_resnet50_450   0.828285          74.2               200   \n",
            "\n",
            "   Total Images  \n",
            "0           320  \n",
            "1          2000  \n",
            "2          2000  \n"
          ]
        }
      ]
    },
    {
      "cell_type": "code",
      "source": [
        "from tabulate import tabulate\n",
        "\n",
        "# Print the table in a structured format\n",
        "print(tabulate(df, headers='keys', tablefmt='grid'))\n"
      ],
      "metadata": {
        "colab": {
          "base_uri": "https://localhost:8080/"
        },
        "id": "DxbGisHT4uBO",
        "outputId": "94bbc380-f193-4721-accd-ea868ac62757"
      },
      "execution_count": null,
      "outputs": [
        {
          "output_type": "stream",
          "name": "stdout",
          "text": [
            "+----+--------------------------+-------------+----------------+--------------------+----------------+\n",
            "|    | Model                    |   Test Loss |   Accuracy (%) |   Images per Class |   Total Images |\n",
            "+====+==========================+=============+================+====================+================+\n",
            "|  0 | genre_model_resnet18_200 |    0.957108 |           68.4 |                 32 |            320 |\n",
            "+----+--------------------------+-------------+----------------+--------------------+----------------+\n",
            "|  1 | genre_model_resnet18_450 |    1.04103  |           68.4 |                200 |           2000 |\n",
            "+----+--------------------------+-------------+----------------+--------------------+----------------+\n",
            "|  2 | genre_model_resnet50_450 |    0.828285 |           74.2 |                200 |           2000 |\n",
            "+----+--------------------------+-------------+----------------+--------------------+----------------+\n"
          ]
        }
      ]
    },
    {
      "cell_type": "code",
      "source": [
        "import numpy as np\n",
        "import matplotlib.pyplot as plt\n",
        "import seaborn as sns\n",
        "\n",
        "# Apply Seaborn style\n",
        "sns.set_style(\"whitegrid\")\n",
        "\n",
        "# Create figure\n",
        "fig, ax1 = plt.subplots(figsize=(12, 6))\n",
        "\n",
        "# X-axis labels and positions\n",
        "x_labels = df[\"Model\"]\n",
        "x = np.arange(len(x_labels))\n",
        "\n",
        "# Plot Accuracy Bars\n",
        "ax1.bar(\n",
        "    x - 0.2, df[\"Accuracy (%)\"], width=0.4, label=\"Accuracy (%)\",\n",
        "    color='royalblue', edgecolor=\"black\", alpha=0.85\n",
        ")\n",
        "\n",
        "# Create a secondary axis for Test Loss\n",
        "ax2 = ax1.twinx()\n",
        "ax2.bar(\n",
        "    x + 0.2, df[\"Test Loss\"], width=0.4, label=\"Test Loss\",\n",
        "    color='tomato', edgecolor=\"black\", alpha=0.85\n",
        ")\n",
        "\n",
        "# Formatting\n",
        "ax1.set_xlabel(\"Model\", fontsize=12, fontweight=\"bold\")\n",
        "ax1.set_ylabel(\"Accuracy (%)\", color='royalblue', fontsize=12, fontweight=\"bold\")\n",
        "ax2.set_ylabel(\"Test Loss\", color='tomato', fontsize=12, fontweight=\"bold\")\n",
        "\n",
        "# X-axis labels\n",
        "ax1.set_xticks(x)\n",
        "ax1.set_xticklabels(x_labels, rotation=20, ha=\"right\", fontsize=11)\n",
        "\n",
        "# Add grid lines\n",
        "ax1.grid(axis=\"y\", linestyle=\"--\", alpha=0.7)\n",
        "\n",
        "# Add Legends\n",
        "ax1.legend(loc=\"upper left\", fontsize=10, frameon=True)\n",
        "ax2.legend(loc=\"upper right\", fontsize=10, frameon=True)\n",
        "\n",
        "# Add title\n",
        "plt.title(\"📊 Model Performance: Accuracy vs Test Loss\", fontsize=14, fontweight=\"bold\", pad=15)\n",
        "\n",
        "# Improve layout\n",
        "plt.tight_layout()\n",
        "plt.show()\n"
      ],
      "metadata": {
        "id": "oG5psf8r5RN1",
        "outputId": "25cab1cf-1e16-4d0a-fd4c-113463de180f",
        "colab": {
          "base_uri": "https://localhost:8080/",
          "height": 676
        }
      },
      "execution_count": null,
      "outputs": [
        {
          "output_type": "stream",
          "name": "stderr",
          "text": [
            "<ipython-input-24-7035ce5ebb8c>:48: UserWarning: Glyph 128202 (\\N{BAR CHART}) missing from font(s) DejaVu Sans.\n",
            "  plt.tight_layout()\n",
            "/usr/local/lib/python3.11/dist-packages/IPython/core/pylabtools.py:151: UserWarning: Glyph 128202 (\\N{BAR CHART}) missing from font(s) DejaVu Sans.\n",
            "  fig.canvas.print_figure(bytes_io, **kw)\n"
          ]
        },
        {
          "output_type": "display_data",
          "data": {
            "text/plain": [
              "<Figure size 1200x600 with 2 Axes>"
            ],
            "image/png": "[encoded data removed]"
          },
          "metadata": {}
        }
      ]
    },
    {
      "cell_type": "code",
      "source": [],
      "metadata": {
        "id": "vG0-KapQ5WAn"
      },
      "execution_count": null,
      "outputs": []
    }
  ]
}